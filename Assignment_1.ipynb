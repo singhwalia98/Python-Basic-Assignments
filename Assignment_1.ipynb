{
 "cells": [
  {
   "cell_type": "raw",
   "id": "6cf196e4",
   "metadata": {},
   "source": [
    "1. In the below elements which of them are values or an expression? eg:- values can be integer or string and expressions will be mathematical operators.\n",
    "\n",
    "* \n",
    "'hello'\n",
    "-87.8\n",
    "- \n",
    "/ \n",
    "+\t\n",
    "6 \n",
    "\n",
    "Ans. 'hello', -87.8, 6 are the Values. \n",
    "* , - , / , + are Expressions. "
   ]
  },
  {
   "cell_type": "raw",
   "id": "87357c3a",
   "metadata": {},
   "source": [
    "2. What is the difference between string and variable?\n",
    "\n",
    "Ans. A string in Python is a sequence of characters, such as \"Hello\" or \"123\". It is typically enclosed in quotes and is used to represent text. Strings are immutable in nature. \n",
    "\n",
    "On the other hand, A variable is a named storage location in memory that holds a value. The value of a variable can be changed during the execution of a program. You can assign a value to a variable using the assignment operator \"=\". "
   ]
  },
  {
   "cell_type": "raw",
   "id": "3f5b0767",
   "metadata": {},
   "source": [
    "3. Describe three different data types.\n",
    "\n",
    "Ans. In Python, there are several data types, including:\n",
    "\n",
    "i) Numeric Types: These include int (integer), float (floating-point number), and complex (complex number). \n",
    "ii) Sequence Types: These include list, tuple, and range. They represent ordered collections of items.\n",
    "iii) Mapping Types: The only built-in mapping type in Python is dict, which represents an unordered collection of key-value pairs."
   ]
  },
  {
   "cell_type": "raw",
   "id": "038056e2",
   "metadata": {},
   "source": [
    "4. What is an expression made up of? What do all expressions do?\n",
    "\n",
    "Ans. An expression in Python is made up of values (such as numbers, strings, or variables) and operators (such as +, -, *, /, etc.). \n",
    "\n",
    "All expressions in Python do the same thing: they evaluate to a single value. The specific value that an expression evaluates to depends on the values and operators used in the expression."
   ]
  },
  {
   "cell_type": "raw",
   "id": "d2f4c1d7",
   "metadata": {},
   "source": [
    "5. This assignment statements, like spam = 10. What is the difference between an expression and a statement?\n",
    "\n",
    "Ans. An expression is a piece of code that evaluates to a value. An expression can be a simple value, like a number or string, or a more complex combination of values and operators.\n",
    "\n",
    "A statement, on the other hand, is a complete instruction in Python that specifies an action to be taken. An assignment statement, like \"spam = 10\", is one type of statement that assigns a value to a variable. The expression on the right side of the assignment operator \"=\" is evaluated first, and the result is then assigned to the variable on the left side."
   ]
  },
  {
   "cell_type": "raw",
   "id": "7575767e",
   "metadata": {},
   "source": [
    "6. After running the following code, what does the variable bacon contain?\n",
    "\n",
    "bacon = 22\n",
    "bacon + 1\n",
    "print(bacon)\n",
    "\n",
    "Ans. 22"
   ]
  },
  {
   "cell_type": "raw",
   "id": "30832838",
   "metadata": {},
   "source": [
    "7. What should the values of the following two terms be?\n",
    "'spam' + 'spamspam'\n",
    "'spam' * 3\n",
    "\n",
    "Ans. 'spam' + 'spamspam' = 'spamspamspam'\n",
    "'spam' * 3 = 'spamspamspam'"
   ]
  },
  {
   "cell_type": "raw",
   "id": "c3b043c8",
   "metadata": {},
   "source": [
    "8. Why is eggs a valid variable name while 100 is invalid?\n",
    "\n",
    "Ans. We can assign the values to a variable name eggs as this is a \"name\" rather than values.\n",
    "\n",
    "100 is considered to be invalid because the variable name can't be a \"number\"."
   ]
  },
  {
   "cell_type": "raw",
   "id": "7a3d5c08",
   "metadata": {},
   "source": [
    "9. What three functions can be used to get the integer, floating-point number, or string version of a value?\n",
    "\n",
    "Ans. int(), float() & str() functions can be used to get the values.  "
   ]
  },
  {
   "cell_type": "raw",
   "id": "110c3d09",
   "metadata": {},
   "source": [
    "10. Why does this expression cause an error? How can you fix it?\n",
    "'I have eaten ' + 99 + ' burritos.'\n",
    "\n",
    "Ans. The expression is causing an error because the string can't be concatenated with an integer using + operator. \n",
    "\n",
    "To fix this code, integer needs to be converted to a string first:\n",
    "\n",
    "'I have eaten' + str(99) + 'burritos'"
   ]
  }
 ],
 "metadata": {
  "kernelspec": {
   "display_name": "Python 3 (ipykernel)",
   "language": "python",
   "name": "python3"
  },
  "language_info": {
   "codemirror_mode": {
    "name": "ipython",
    "version": 3
   },
   "file_extension": ".py",
   "mimetype": "text/x-python",
   "name": "python",
   "nbconvert_exporter": "python",
   "pygments_lexer": "ipython3",
   "version": "3.9.13"
  }
 },
 "nbformat": 4,
 "nbformat_minor": 5
}
