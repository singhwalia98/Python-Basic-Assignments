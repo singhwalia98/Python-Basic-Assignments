{
 "cells": [
  {
   "cell_type": "raw",
   "id": "64e1e4db",
   "metadata": {},
   "source": [
    "1. What are escape characters, and how do you use them?\n",
    "\n",
    "Ans. Escape characters are special characters used to represent characters that cannot be easily typed or printed as part of a string. The escape character is the backslash \\ . When used before a character, it indicates that the character following the backslash should be treated specially.\n",
    "\n",
    "Please find diff escape characters and their use cases in the lines below:"
   ]
  },
  {
   "cell_type": "code",
   "execution_count": 16,
   "id": "7e8e5386",
   "metadata": {},
   "outputs": [
    {
     "name": "stdout",
     "output_type": "stream",
     "text": [
      "Good morninggggggggg! \n",
      "India\n"
     ]
    }
   ],
   "source": [
    "print('Good morninggggggggg! \\nIndia') # \\n can be used to insert a new line within a string. "
   ]
  },
  {
   "cell_type": "code",
   "execution_count": 22,
   "id": "5e1ef0f8",
   "metadata": {},
   "outputs": [
    {
     "name": "stdout",
     "output_type": "stream",
     "text": [
      "Pls enter your full name:\tReshab\n"
     ]
    }
   ],
   "source": [
    "a = input('Pls enter your full name:\\t') # \\t can be used to insert a tab within a string. "
   ]
  },
  {
   "cell_type": "code",
   "execution_count": 27,
   "id": "4f8c1651",
   "metadata": {},
   "outputs": [
    {
     "name": "stdout",
     "output_type": "stream",
     "text": [
      "Hello! \"Stalker\"\n"
     ]
    }
   ],
   "source": [
    "print('Hello! \\\"Stalker\"') # \\ can be used to include string within a string. "
   ]
  },
  {
   "cell_type": "code",
   "execution_count": 29,
   "id": "33d97138",
   "metadata": {},
   "outputs": [
    {
     "name": "stdout",
     "output_type": "stream",
     "text": [
      "C:\\Users\\Reshab Singh\\Desktop\\Ineuron\\Python Basic (Assignments)\n"
     ]
    }
   ],
   "source": [
    "print('C:\\\\Users\\\\Reshab Singh\\\\Desktop\\\\Ineuron\\\\Python Basic (Assignments)') \n",
    "\n",
    "# \\\\ can be used to include a backslash in the path within a string. "
   ]
  },
  {
   "cell_type": "raw",
   "id": "3442b9a8",
   "metadata": {},
   "source": [
    "2. What do the escape characters n and t stand for?\n",
    "\n",
    "Ans. Escape character 'n' stands for a new line. \n",
    "\n",
    "Escape character 't' stands for insert tab. "
   ]
  },
  {
   "cell_type": "raw",
   "id": "1e1af5e2",
   "metadata": {},
   "source": [
    "3. What is the way to include backslash characters in a string?\n",
    "\n",
    "Ans. Backslash characters can be included in a string by using double backslashes (\\\\). "
   ]
  },
  {
   "cell_type": "raw",
   "id": "2182a7f9",
   "metadata": {},
   "source": [
    "4. The string \"Howl's Moving Castle\" is a correct value. Why isn't the single quote character in the word Howl's not escaped a problem?\n",
    "\n",
    "Ans. A string can be enclosed in either single quotes ('...') or double quotes (\"...\"). When a string is enclosed in one type of quotes, any quotes of the other type can be included in the string without needing to be escaped.\n",
    "\n",
    "In our example \"Howl's Moving Castle\" is enclosed in double quotes (\" \") hence single quote with Howl's isn't a problem and doesn't need to be escaped. "
   ]
  },
  {
   "cell_type": "raw",
   "id": "8a75bb8a",
   "metadata": {},
   "source": [
    "5. How do you write a string of newlines if you don't want to use the n character?\n",
    "\n",
    "Ans. We can write a string of newlines by enclosing it with triple strings (\"\"\".... \"\"\"). \n",
    "\n",
    "Please check the code below to prove the same:"
   ]
  },
  {
   "cell_type": "code",
   "execution_count": 33,
   "id": "021678eb",
   "metadata": {},
   "outputs": [
    {
     "name": "stdout",
     "output_type": "stream",
     "text": [
      "I want to see if this works\n",
      "without using the n character and it does work\n",
      "VERY WELL!\n"
     ]
    }
   ],
   "source": [
    "print(\"\"\"I want to see if this works\n",
    "without using the n character and it does work\n",
    "VERY WELL!\"\"\")"
   ]
  },
  {
   "cell_type": "raw",
   "id": "b62e32d8",
   "metadata": {},
   "source": [
    "6. What are the values of the given expressions?\n",
    "\n",
    "'Hello, world!'[1] \n",
    "'Hello, world!'[0:5]\n",
    "'Hello, world!'[:5]\n",
    "'Hello, world!'[3:]\n",
    "\n",
    "Ans. Please find the values in the lines below:"
   ]
  },
  {
   "cell_type": "code",
   "execution_count": 34,
   "id": "4309f72d",
   "metadata": {},
   "outputs": [
    {
     "data": {
      "text/plain": [
       "'e'"
      ]
     },
     "execution_count": 34,
     "metadata": {},
     "output_type": "execute_result"
    }
   ],
   "source": [
    "'Hello, world!'[1]"
   ]
  },
  {
   "cell_type": "code",
   "execution_count": 40,
   "id": "e8ef65c9",
   "metadata": {},
   "outputs": [
    {
     "data": {
      "text/plain": [
       "'Hello'"
      ]
     },
     "execution_count": 40,
     "metadata": {},
     "output_type": "execute_result"
    }
   ],
   "source": [
    "'Hello, world!'[0:5]"
   ]
  },
  {
   "cell_type": "code",
   "execution_count": 36,
   "id": "f0a9357a",
   "metadata": {},
   "outputs": [
    {
     "data": {
      "text/plain": [
       "'Hello'"
      ]
     },
     "execution_count": 36,
     "metadata": {},
     "output_type": "execute_result"
    }
   ],
   "source": [
    "'Hello, world!'[:5]"
   ]
  },
  {
   "cell_type": "code",
   "execution_count": 37,
   "id": "7df00ed2",
   "metadata": {},
   "outputs": [
    {
     "data": {
      "text/plain": [
       "'lo, world!'"
      ]
     },
     "execution_count": 37,
     "metadata": {},
     "output_type": "execute_result"
    }
   ],
   "source": [
    "'Hello, world!'[3:]"
   ]
  },
  {
   "cell_type": "raw",
   "id": "55352f97",
   "metadata": {},
   "source": [
    "7. What are the values of the following expressions?\n",
    "\n",
    "'Hello'.upper()\n",
    "'Hello'.upper().isupper()\n",
    "'Hello'.upper().lower()\n",
    "\n",
    "Ans. Please find the values in the lines below:"
   ]
  },
  {
   "cell_type": "code",
   "execution_count": 42,
   "id": "b71916ef",
   "metadata": {},
   "outputs": [
    {
     "data": {
      "text/plain": [
       "'HELLO'"
      ]
     },
     "execution_count": 42,
     "metadata": {},
     "output_type": "execute_result"
    }
   ],
   "source": [
    "'Hello'.upper()"
   ]
  },
  {
   "cell_type": "code",
   "execution_count": 43,
   "id": "aba0d4ec",
   "metadata": {},
   "outputs": [
    {
     "data": {
      "text/plain": [
       "True"
      ]
     },
     "execution_count": 43,
     "metadata": {},
     "output_type": "execute_result"
    }
   ],
   "source": [
    "'Hello'.upper().isupper()"
   ]
  },
  {
   "cell_type": "code",
   "execution_count": 44,
   "id": "eb4d2100",
   "metadata": {},
   "outputs": [
    {
     "data": {
      "text/plain": [
       "'hello'"
      ]
     },
     "execution_count": 44,
     "metadata": {},
     "output_type": "execute_result"
    }
   ],
   "source": [
    "'Hello'.upper().lower()"
   ]
  },
  {
   "cell_type": "raw",
   "id": "bed6cbbc",
   "metadata": {},
   "source": [
    "8. What are the values of the following expressions?\n",
    "\n",
    "'Remember, remember, the fifth of July.'.split()\n",
    "\n",
    "'-'.join('There can only one.'.split())\n",
    "\n",
    "Ans. Please find the values in the lines below:"
   ]
  },
  {
   "cell_type": "code",
   "execution_count": 45,
   "id": "571f1ced",
   "metadata": {},
   "outputs": [
    {
     "data": {
      "text/plain": [
       "['Remember,', 'remember,', 'the', 'fifth', 'of', 'July.']"
      ]
     },
     "execution_count": 45,
     "metadata": {},
     "output_type": "execute_result"
    }
   ],
   "source": [
    "'Remember, remember, the fifth of July.'.split()"
   ]
  },
  {
   "cell_type": "code",
   "execution_count": 46,
   "id": "ad902e3f",
   "metadata": {},
   "outputs": [
    {
     "data": {
      "text/plain": [
       "'There-can-only-one.'"
      ]
     },
     "execution_count": 46,
     "metadata": {},
     "output_type": "execute_result"
    }
   ],
   "source": [
    "'-'.join('There can only one.'.split())"
   ]
  },
  {
   "cell_type": "raw",
   "id": "a727e248",
   "metadata": {},
   "source": [
    "9. What are the methods for right-justifying, left-justifying, and centering a string?\n",
    "\n",
    "Ans. rjust( ) can be used for right-justifying.\n",
    "\n",
    "ljust( ) can be used for left-justifying.\n",
    "\n",
    "center( ) can be used for centering a string. "
   ]
  },
  {
   "cell_type": "markdown",
   "id": "a32a7a7f",
   "metadata": {},
   "source": [
    "10. What is the best way to remove whitespace characters from the start or end?\n",
    "\n",
    "Ans. To remove whitespace characters from the start **.removeprefix( )** can be used. \n",
    "\n",
    "To remove whitespace characters from the end **.removesuffix( )** can be used. "
   ]
  },
  {
   "cell_type": "code",
   "execution_count": null,
   "id": "b2d4b82a",
   "metadata": {},
   "outputs": [],
   "source": []
  }
 ],
 "metadata": {
  "kernelspec": {
   "display_name": "Python 3 (ipykernel)",
   "language": "python",
   "name": "python3"
  },
  "language_info": {
   "codemirror_mode": {
    "name": "ipython",
    "version": 3
   },
   "file_extension": ".py",
   "mimetype": "text/x-python",
   "name": "python",
   "nbconvert_exporter": "python",
   "pygments_lexer": "ipython3",
   "version": "3.9.13"
  }
 },
 "nbformat": 4,
 "nbformat_minor": 5
}
