{
 "cells": [
  {
   "cell_type": "raw",
   "id": "25e2e53c",
   "metadata": {},
   "source": [
    "1. Why are functions advantageous to have in your programs?\n",
    "\n",
    "Ans. The advantages of functions to have in your program can be discussed below:\n",
    "\n",
    "1. Abstraction: Functions provide a level of abstraction by encapsulating a block of code that performs a specific task. This allows you to hide the implementation details and only expose the interface to the rest of the code, making your programs easier to understand and maintain.\n",
    "\n",
    "2. Reusability: Functions can be used repeatedly in your code, reducing the amount of duplicated code and making it easier to make changes in one place.\n",
    "\n",
    "3. Decomposition: Functions allow you to decompose a large, complex problem into smaller, manageable pieces. This makes it easier to write and debug your code, as well as making it easier to understand how your code works.\n",
    "\n",
    "4. Modularity: Functions can be written and tested independently of the rest of the code, allowing you to focus on one piece of the problem at a time. This makes it easier to develop, maintain, and upgrade your code over time."
   ]
  },
  {
   "cell_type": "raw",
   "id": "e4c2bd33",
   "metadata": {},
   "source": [
    "2. When does the code in a function run: when it's specified or when it's called?\n",
    "\n",
    "Ans. The code in a function runs when it's been 'called'. "
   ]
  },
  {
   "cell_type": "raw",
   "id": "3affe549",
   "metadata": {},
   "source": [
    "3. What statement creates a function?\n",
    "\n",
    "Ans. \"def\" statement is used to create a function."
   ]
  },
  {
   "cell_type": "raw",
   "id": "4a2919e6",
   "metadata": {},
   "source": [
    "4. What is the difference between a function and a function call?\n",
    "\n",
    "Ans. A function is a block of organized, reusable code that is used to perform a single, related action. Functions allow you to break down a larger program into smaller, manageable pieces, and make your code more organized and readable.\n",
    "\n",
    "A function call, on the other hand, is the act of executing or running a function. When you make a function call, you are asking the function to perform its action and return the result."
   ]
  },
  {
   "cell_type": "raw",
   "id": "69dbca31",
   "metadata": {},
   "source": [
    "5. How many global scopes are there in a Python program? How many local scopes?\n",
    "\n",
    "Ans. In a Python program, there is only one global scope.\n",
    "\n",
    "There can be multiple local scopes within a function."
   ]
  },
  {
   "cell_type": "raw",
   "id": "989ec289",
   "metadata": {},
   "source": [
    "6. What happens to variables in a local scope when the function call returns?\n",
    "\n",
    "Ans. When a function call returns, the local scope in which the function was defined is destroyed, along with any variables that were defined within that scope. This is because the local scope is created only for the duration of the function call, and once the function returns, the local scope is no longer needed."
   ]
  },
  {
   "cell_type": "raw",
   "id": "0953cebd",
   "metadata": {},
   "source": [
    "7. What is the concept of a return value? Is it possible to have a return value in an expression?\n",
    "\n",
    "Ans. The return statement, is used to specify the value that the function returns to its caller. The return value can be used in other parts of the program to perform further calculations or to make decisions based on the result of the function. The function terminates immediately after the return statement is executed, and the control returns to the caller.\n",
    "\n",
    "It is not possible to have a return value in an expression. Expressions are used to produce a value, but they do not have a return value as such. The value of an expression is determined by evaluating the expression, and the result of that evaluation is used in the larger context in which the expression appears."
   ]
  },
  {
   "cell_type": "markdown",
   "id": "b9fef12f",
   "metadata": {},
   "source": [
    "8. If a function does not have a return statement, what is the return value of a call to that function?\n",
    "\n",
    "Ans. When a function does not have a return statement, the return value is implicitly **\"None\"**. "
   ]
  },
  {
   "cell_type": "markdown",
   "id": "dde1d80d",
   "metadata": {},
   "source": [
    "9. How do you make a function variable refer to the global variable?\n",
    "\n",
    "Ans. If you want to make a function variable refer to the global variable then we need to declare the same using the **\"global\"** keyword. "
   ]
  },
  {
   "cell_type": "markdown",
   "id": "4edeb305",
   "metadata": {},
   "source": [
    "10. What is the data type of None?\n",
    "\n",
    "Ans. **NoneType** is the data type of None. "
   ]
  },
  {
   "cell_type": "markdown",
   "id": "05c3cdc1",
   "metadata": {},
   "source": [
    "11. What does the sentence import areallyourpetsnamederic do?\n",
    "\n",
    "Ans. The sentence \"import areallyourpetsnamederic\" tries and import a fake python module named **areallyourpetsnamederic**. "
   ]
  },
  {
   "cell_type": "raw",
   "id": "a6bbd1da",
   "metadata": {},
   "source": [
    "12. If you had a bacon() feature in a spam module, what would you call it after importing spam?\n",
    "\n",
    "Ans. spam.bacon()"
   ]
  },
  {
   "cell_type": "markdown",
   "id": "de0503eb",
   "metadata": {},
   "source": [
    "13. What can you do to save a programme from crashing if it encounters an error?\n",
    "\n",
    "Ans. We can use **try & except** clause to save a programme from crashing if it encounters an error."
   ]
  },
  {
   "cell_type": "raw",
   "id": "63307c33",
   "metadata": {},
   "source": [
    "14. What is the purpose of the try clause? What is the purpose of the except clause?\n",
    "\n",
    "Ans. Purpose of the try clause: The try clause is used to enclose a block of code that you want to test for errors. If an error occurs while executing the code in the try block, the program control is transferred to the except clause.\n",
    "\n",
    "Purpose of the except clause: The except clause is used to handle the errors that are raised in the try block. It provides a way to catch and handle specific errors that might occur in your code. When an error is caught by the except clause, the code inside the except clause is executed, and the program continues running. This allows you to gracefully handle errors in your code, rather than having the program crash or produce incorrect results."
   ]
  }
 ],
 "metadata": {
  "kernelspec": {
   "display_name": "Python 3 (ipykernel)",
   "language": "python",
   "name": "python3"
  },
  "language_info": {
   "codemirror_mode": {
    "name": "ipython",
    "version": 3
   },
   "file_extension": ".py",
   "mimetype": "text/x-python",
   "name": "python",
   "nbconvert_exporter": "python",
   "pygments_lexer": "ipython3",
   "version": "3.9.13"
  }
 },
 "nbformat": 4,
 "nbformat_minor": 5
}
