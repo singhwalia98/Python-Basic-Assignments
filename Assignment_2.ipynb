{
 "cells": [
  {
   "cell_type": "raw",
   "id": "b7a842c7",
   "metadata": {},
   "source": [
    "1.What are the two values of the Boolean data type? How do you write them?\n",
    "\n",
    "Ans. Two values of the Boolean type are True & False. \n",
    "\n",
    "Please find the code in the line below:"
   ]
  },
  {
   "cell_type": "code",
   "execution_count": 16,
   "id": "a20f006d",
   "metadata": {},
   "outputs": [
    {
     "name": "stdout",
     "output_type": "stream",
     "text": [
      "We can work from office as the weather is clear today.\n"
     ]
    }
   ],
   "source": [
    "is_raining = False\n",
    "\n",
    "if is_raining:\n",
    "    print(\"We will work from home today as it's raining outside.\")    \n",
    "else:\n",
    "    print(\"We can work from office as the weather is clear today.\")"
   ]
  },
  {
   "cell_type": "raw",
   "id": "c1f10826",
   "metadata": {},
   "source": [
    "2. What are the three different types of Boolean operators?\n",
    "\n",
    "Ans. Three different types of Boolean operators are: Logical AND, Logical OR & Logical NOT. "
   ]
  },
  {
   "attachments": {},
   "cell_type": "markdown",
   "id": "a2d4ee71",
   "metadata": {},
   "source": [
    "3. Make a list of each Boolean operator's truth tables (i.e. every possible combination of Boolean values for the operator and what it evaluate).\n",
    "\n",
    "Ans. Here are the truth tables for each Boolean operator:\n",
    "\n",
    "#### Logical AND (and)\n",
    "\n",
    "| A | B | A & B |\n",
    "| --- | --- | --- |\n",
    "| True | True | True | \n",
    "| True | False | False |\n",
    "| False | True | False |\n",
    "| False | False | False |\n",
    "\n",
    "#### Logical OR (or)\n",
    "\n",
    "| A | B | A & B |\n",
    "| --- | --- | --- |\n",
    "| True | True | True | \n",
    "| True | False | True |\n",
    "| False | True | True |\n",
    "| False | False | False |\n",
    "\n",
    "#### Logical NOT (not)\n",
    "\n",
    "| A | not A |\n",
    "| --- | --- |\n",
    "| True | False |\n",
    "| False | False |"
   ]
  },
  {
   "cell_type": "raw",
   "id": "03ac18c1",
   "metadata": {},
   "source": [
    "4. What are the values of the following expressions?\n",
    "\n",
    "Ans. Please find the answers below:\n",
    "\n",
    "(5 > 4) and (3 == 5): FALSE\n",
    "\n",
    "not (5 > 4): FALSE\n",
    "\n",
    "(5 > 4) or (3 == 5): TRUE\n",
    "\n",
    "not ((5 > 4) or (3 == 5)): FALSE\n",
    "\n",
    "(True and True) and (True == False): FALSE\n",
    "\n",
    "(not False) or (not True): TRUE"
   ]
  },
  {
   "cell_type": "markdown",
   "id": "c705875d",
   "metadata": {},
   "source": [
    "5. What are the six comparison operators?\n",
    "\n",
    "Ans. The six comparison operators are:\n",
    "\n",
    "1. Less than (<)\n",
    "2. Less than or equal to (<=)\n",
    "3. Greater than (>)\n",
    "4. Greater than or equal to (>=)\n",
    "5. Equal to (==)\n",
    "6. Not equal to (!=)"
   ]
  },
  {
   "cell_type": "raw",
   "id": "059e612f",
   "metadata": {},
   "source": [
    "6. How do you tell the difference between the equal to and assignment operators? Describe a condition and when you would use one.\n",
    "\n",
    "Ans. Equal to (==) is used to compare two values to see if they are equal. \n",
    "\n",
    "On the other hand, assignment operator (=) is used to assign a value to a variable.\n",
    "\n",
    "Please find the conditions below:"
   ]
  },
  {
   "cell_type": "code",
   "execution_count": 11,
   "id": "7e73d593",
   "metadata": {},
   "outputs": [
    {
     "name": "stdout",
     "output_type": "stream",
     "text": [
      "Pls enter your name in title case: Reshab singh\n",
      "You have entered it incorrectly! The correct formatting should be Reshab Singh.\n"
     ]
    }
   ],
   "source": [
    "# condition to use (equal to) operator\n",
    "\n",
    "a = input(\"Pls enter your name in title case: \")\n",
    "\n",
    "if a == a.title():\n",
    "    print(\"You have entered it correctly.\")\n",
    "else:\n",
    "    print(f\"You have entered it incorrectly! The correct formatting should be {a.title()}.\")"
   ]
  },
  {
   "cell_type": "code",
   "execution_count": 13,
   "id": "a9fb42bc",
   "metadata": {},
   "outputs": [
    {
     "name": "stdout",
     "output_type": "stream",
     "text": [
      "150\n"
     ]
    }
   ],
   "source": [
    "# condition to use (assignment) operator\n",
    "\n",
    "x = 100\n",
    "x += 50\n",
    "print(x)"
   ]
  },
  {
   "cell_type": "raw",
   "id": "86803613",
   "metadata": {},
   "source": [
    "7. Identify the three blocks in this code:\n",
    "    \n",
    "spam = 0\n",
    "\n",
    "if spam == 10:\n",
    "print('eggs')\n",
    "if spam > 5:\n",
    "print('bacon')\n",
    "\n",
    "else:\n",
    "print('ham')\n",
    "print('spam')\n",
    "print('spam')\n",
    "\n",
    "Please find the corrected code below: "
   ]
  },
  {
   "cell_type": "code",
   "execution_count": 22,
   "id": "c6e7e893",
   "metadata": {},
   "outputs": [
    {
     "name": "stdout",
     "output_type": "stream",
     "text": [
      "ham\n",
      "spam\n",
      "spam\n"
     ]
    }
   ],
   "source": [
    "spam = 0\n",
    "\n",
    "if spam == 10:\n",
    "    print('eggs') #1st block\n",
    "if spam > 5:\n",
    "    print('bacon') #2nd block\n",
    "\n",
    "else:\n",
    "    print('ham') #3rd block    \n",
    "print('spam') \n",
    "print('spam') "
   ]
  },
  {
   "cell_type": "raw",
   "id": "c9552eac",
   "metadata": {},
   "source": [
    "8. Write a code that prints Hello if 1 is stored in spam, prints Howdy if 2 is stored in spam, and prints Greetings! if anything else is stored in spam.\n",
    "\n",
    "Ans. Please find the appropriate code below:"
   ]
  },
  {
   "cell_type": "code",
   "execution_count": 27,
   "id": "988261cc",
   "metadata": {},
   "outputs": [
    {
     "name": "stdout",
     "output_type": "stream",
     "text": [
      "Greetings!\n"
     ]
    }
   ],
   "source": [
    "spam = 0\n",
    "\n",
    "if spam == 1:\n",
    "    print(\"Hello!\")\n",
    "elif spam == 2:\n",
    "    print(\"Howdy\")\n",
    "else:\n",
    "    print(\"Greetings!\")"
   ]
  },
  {
   "cell_type": "raw",
   "id": "e52447df",
   "metadata": {},
   "source": [
    "9. If your programme is stuck in an endless loop, what keys you’ll press?\n",
    "\n",
    "Ans. We will have to press the \"Interrupt kernel\" button to stop the loop. "
   ]
  },
  {
   "cell_type": "raw",
   "id": "8fafd983",
   "metadata": {},
   "source": [
    "10. How can you tell the difference between break and continue?\n",
    "\n",
    "Ans. When the break statement is encountered inside a loop, the loop is terminated and the program control continues to the next statement after the loop.\n",
    "\n",
    "When the continue statement is encountered inside a loop, the current iteration is skipped and the program control goes to the next iteration."
   ]
  },
  {
   "cell_type": "raw",
   "id": "4aa6aaed",
   "metadata": {},
   "source": [
    "11. In a for loop, what is the difference between range(10), range(0, 10), and range(0, 10, 1)?\n",
    "\n",
    "Ans. When running a for loop, there is no difference between all the 3 conditions because it will continue the range from 0 till 9th no. \n",
    "Please find the codes below in order to prove the same:"
   ]
  },
  {
   "cell_type": "code",
   "execution_count": 28,
   "id": "5ea17c05",
   "metadata": {},
   "outputs": [
    {
     "name": "stdout",
     "output_type": "stream",
     "text": [
      "0\n",
      "1\n",
      "2\n",
      "3\n",
      "4\n",
      "5\n",
      "6\n",
      "7\n",
      "8\n",
      "9\n"
     ]
    }
   ],
   "source": [
    "for i in range(10):\n",
    "    print(i)"
   ]
  },
  {
   "cell_type": "code",
   "execution_count": 29,
   "id": "090c4796",
   "metadata": {},
   "outputs": [
    {
     "name": "stdout",
     "output_type": "stream",
     "text": [
      "0\n",
      "1\n",
      "2\n",
      "3\n",
      "4\n",
      "5\n",
      "6\n",
      "7\n",
      "8\n",
      "9\n"
     ]
    }
   ],
   "source": [
    "for i in range(0,10):\n",
    "    print(i)"
   ]
  },
  {
   "cell_type": "code",
   "execution_count": 30,
   "id": "1208d0a8",
   "metadata": {},
   "outputs": [
    {
     "name": "stdout",
     "output_type": "stream",
     "text": [
      "0\n",
      "1\n",
      "2\n",
      "3\n",
      "4\n",
      "5\n",
      "6\n",
      "7\n",
      "8\n",
      "9\n"
     ]
    }
   ],
   "source": [
    "for i in range(0,10,1):\n",
    "    print(i)"
   ]
  },
  {
   "cell_type": "raw",
   "id": "33f91e11",
   "metadata": {},
   "source": [
    "12. Write a short program that prints the numbers 1 to 10 using a for loop. Then write an equivalent program that prints the numbers 1 to 10 using a while loop.\n",
    "\n",
    "Ans. Please find the appropriate codes below:"
   ]
  },
  {
   "cell_type": "code",
   "execution_count": 32,
   "id": "96499854",
   "metadata": {},
   "outputs": [
    {
     "name": "stdout",
     "output_type": "stream",
     "text": [
      "1\n",
      "2\n",
      "3\n",
      "4\n",
      "5\n",
      "6\n",
      "7\n",
      "8\n",
      "9\n",
      "10\n"
     ]
    }
   ],
   "source": [
    "# prints the numbers 1 to 10 using a for loop\n",
    "\n",
    "for i in range(1,11):\n",
    "    print(i)"
   ]
  },
  {
   "cell_type": "code",
   "execution_count": 9,
   "id": "c40e7190",
   "metadata": {},
   "outputs": [
    {
     "name": "stdout",
     "output_type": "stream",
     "text": [
      "1\n",
      "2\n",
      "3\n",
      "4\n",
      "5\n",
      "6\n",
      "7\n",
      "8\n",
      "9\n",
      "10\n"
     ]
    }
   ],
   "source": [
    "# prints the numbers 1 to 10 using a while loop\n",
    "\n",
    "i = 1\n",
    "while i < 11:\n",
    "    print(i)\n",
    "    i += 1"
   ]
  },
  {
   "cell_type": "raw",
   "id": "8d2a3165",
   "metadata": {},
   "source": [
    "13. If you had a function named bacon() inside a module named spam, how would you call it after importing spam?\n",
    "\n",
    "Ans. We can call it using: import spam as sp\n",
    "sp.bacon()"
   ]
  }
 ],
 "metadata": {
  "kernelspec": {
   "display_name": "Python 3 (ipykernel)",
   "language": "python",
   "name": "python3"
  },
  "language_info": {
   "codemirror_mode": {
    "name": "ipython",
    "version": 3
   },
   "file_extension": ".py",
   "mimetype": "text/x-python",
   "name": "python",
   "nbconvert_exporter": "python",
   "pygments_lexer": "ipython3",
   "version": "3.9.13"
  }
 },
 "nbformat": 4,
 "nbformat_minor": 5
}
