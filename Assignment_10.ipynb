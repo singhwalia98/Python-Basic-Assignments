{
 "cells": [
  {
   "attachments": {},
   "cell_type": "markdown",
   "metadata": {},
   "source": [
    "How do you distinguish between shutil.copy() and shutil.copytree()?\n",
    "\n",
    "Ans. Both shutil.copy() and shutil.copytree() are functions from shutil module in python. Let's see the major difference between them below:\n",
    "\n",
    "* shutil.copy() will only copy one single file from the source path to the destination path.\n",
    "\n",
    "* However, shutil.copytree() will copy the entire directory from the source path and will create a new destination path to paste the contents from the source directory."
   ]
  },
  {
   "attachments": {},
   "cell_type": "markdown",
   "metadata": {},
   "source": [
    "2. What function is used to rename files?\n",
    "\n",
    "Ans. Os.rename fun is used from the OS module to rename files in Python. "
   ]
  },
  {
   "attachments": {},
   "cell_type": "markdown",
   "metadata": {},
   "source": [
    "3. What is the difference between the delete functions in the send2trash and shutil modules?\n",
    "\n",
    "Ans. Both the functions can help us to delete files & directories. Let's see the difference below:\n",
    "\n",
    "* send2trash.send2trash() function from send2trash module can help us to delete both files & directories and it will move the deleted file/directory to the trash/recycle bin so that the user can still recover it.\n",
    "\n",
    "* On the other hand, shutil.rmtree() function from shutil module can only help us to delete the entire directory and not a single file. Also, it will permanently delete the directory instead of moving it to the recycle bin. "
   ]
  },
  {
   "attachments": {},
   "cell_type": "markdown",
   "metadata": {},
   "source": [
    "4. ZipFile objects have a close() method just like File objects’ close() method. What ZipFile method is equivalent to File objects’ open() method?\n",
    "\n",
    "Ans. ZipFile.ZipFile() method is equivalent to File objects’ open() method. "
   ]
  },
  {
   "attachments": {},
   "cell_type": "markdown",
   "metadata": {},
   "source": [
    "5. Create a programme that searches a folder tree for files with a certain file extension (such as .pdf or .jpg). Copy these files from whatever location they are in to a new folder.\n",
    "\n",
    "Ans. Please find the code below about the same:"
   ]
  },
  {
   "cell_type": "code",
   "execution_count": 110,
   "metadata": {},
   "outputs": [],
   "source": [
    "import os\n",
    "import shutil\n",
    "\n",
    "def find_files(source_folder, extension, dest_folder):\n",
    "\n",
    "    \"\"\" This fun takes 3 arguments which are \"source folder path\", file extension (For e.g '.pdf' or '.jpg') & \"destination folder path\". \n",
    "    This will look for particular extension files in the directory and will copy all the matching ext files in the destination path folder.\"\"\"\n",
    "\n",
    "    try:\n",
    "\n",
    "        for root, dirs, files in os.walk(source_folder):\n",
    "            for file in files:\n",
    "\n",
    "                if file.endswith(extension) == True:\n",
    "                    source_file = os.path.join(root, file)\n",
    "                    shutil.copy(source_file, dest_folder)\n",
    "                    print(\"Found the desired file ext. Copied successfully.\")\n",
    "                    continue\n",
    "\n",
    "            else:\n",
    "                print(f\"Desired extension file {extension} isn't available in this directory. Checking another directory/subdirectory.\")                \n",
    "                                            \n",
    "    except Exception as e:\n",
    "        print(\"Please check the arguements & inputs to see what went wrong.\", e)\n"
   ]
  },
  {
   "cell_type": "code",
   "execution_count": null,
   "metadata": {},
   "outputs": [],
   "source": []
  }
 ],
 "metadata": {
  "kernelspec": {
   "display_name": "base",
   "language": "python",
   "name": "python3"
  },
  "language_info": {
   "codemirror_mode": {
    "name": "ipython",
    "version": 3
   },
   "file_extension": ".py",
   "mimetype": "text/x-python",
   "name": "python",
   "nbconvert_exporter": "python",
   "pygments_lexer": "ipython3",
   "version": "3.9.13"
  },
  "orig_nbformat": 4
 },
 "nbformat": 4,
 "nbformat_minor": 2
}
