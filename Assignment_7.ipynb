{
 "cells": [
  {
   "cell_type": "raw",
   "id": "6dff6f33",
   "metadata": {},
   "source": [
    "1. What is the name of the feature responsible for generating Regex objects?\n",
    "\n",
    "Ans. The feature responsible for generating Regex objects is the re module. "
   ]
  },
  {
   "cell_type": "raw",
   "id": "e7775b00",
   "metadata": {},
   "source": [
    "2. Why do raw strings often appear in Regex objects?\n",
    "\n",
    "Ans. Raw strings are often used in regular expressions (regex) because they allow special characters to be represented literally, without the need for escaping. "
   ]
  },
  {
   "cell_type": "raw",
   "id": "1b075995",
   "metadata": {},
   "source": [
    "3. What is the return value of the search() method?\n",
    "\n",
    "Ans. The search() method is part of the re module, and it returns a match object if a match is found, or None if no match is found."
   ]
  },
  {
   "cell_type": "raw",
   "id": "401cd358",
   "metadata": {},
   "source": [
    "4. From a Match item, how do you get the actual strings that match the pattern?\n",
    "\n",
    "Ans. To get the actual strings that match the pattern from a Match object in Python's regular expression module re, we can use the group() method."
   ]
  },
  {
   "cell_type": "raw",
   "id": "39406199-dd8f-4fe9-a521-be115a2bca42",
   "metadata": {},
   "source": [
    "5. In the regex which created from the r'(\\d\\d\\d)-(\\d\\d\\d-\\d\\d\\d\\d)', what does group zero cover? Group 2? Group 1?\n",
    "\n",
    "Ans. Group 0 (or the entire match) covers the entire matched string, including both capturing groups.\n",
    "\n",
    "Group 1 covers the first capturing group (\\d\\d\\d), which matches any sequence of three digits.\n",
    "\n",
    "Group 2 covers the second capturing group (\\d\\d\\d-\\d\\d\\d\\d), which matches any sequence of three digits, followed by a hyphen, and then any sequence of four digits.\n",
    "\n",
    "Please see the code below to prove the same:"
   ]
  },
  {
   "cell_type": "code",
   "execution_count": 14,
   "id": "8f76e071-cb7d-4f33-9155-aa03d4c542bd",
   "metadata": {},
   "outputs": [
    {
     "data": {
      "text/plain": [
       "('897-123-4101', '897', '123-4101')"
      ]
     },
     "execution_count": 14,
     "metadata": {},
     "output_type": "execute_result"
    }
   ],
   "source": [
    "import re\n",
    "\n",
    "text = '897-123-4101'\n",
    "pattern = '(\\d\\d\\d)-(\\d\\d\\d-\\d\\d\\d\\d)'\n",
    "\n",
    "a = re.search(pattern,text)\n",
    "a.group(0,1,2)"
   ]
  },
  {
   "cell_type": "raw",
   "id": "b866702b-754e-4623-a226-96bf89ca84fd",
   "metadata": {},
   "source": [
    "6. In standard expression syntax, parentheses and intervals have distinct meanings. How can you tell a regex that you want it to fit real parentheses and periods?\n",
    "\n",
    "Ans. We can tell regex by using backslash (\\) which will make the paranthesis or periods literal. "
   ]
  },
  {
   "cell_type": "raw",
   "id": "0f396de3-9c95-4242-b5e6-796bb6f3f776",
   "metadata": {},
   "source": [
    "7. The findall() method returns a string list or a list of string tuples. What causes it to return one of the two options?\n",
    "\n",
    "Ans. The findall() method returns a string list when it doesn't have any capturing groups in the matches. \n",
    "\n",
    "On the other hand, it returns a list of string tuples when the regex pattern contain one or more capturing groups. "
   ]
  },
  {
   "cell_type": "raw",
   "id": "20495442-250f-4c42-b4c6-69d56ff9e348",
   "metadata": {},
   "source": [
    "8. In standard expressions, what does the | character mean?\n",
    "\n",
    "Ans. In regular expression, | means \"OR\" which can be used to match among any specified set of alternatives. "
   ]
  },
  {
   "cell_type": "raw",
   "id": "f90db981-30a0-4e11-82bb-2e1ac5d090da",
   "metadata": {},
   "source": [
    "9. In regular expressions, what does the character stand for?\n",
    "\n",
    "Ans. "
   ]
  },
  {
   "cell_type": "raw",
   "id": "ffdd03c2-a22f-4c3b-8331-ab0a17b1eb90",
   "metadata": {},
   "source": [
    "10. In regular expressions, what is the difference between the + and * characters?\n",
    "\n",
    "Ans. The + quantifier means \"one or more\", and matches one or more occurrences of the preceding character or group. For example, the regular expression ca+t would match \"cat\", \"caat\", \"caaat\", and so on, but would not match \"ct\".\n",
    "\n",
    "The * quantifier means \"zero or more\", and matches zero or more occurrences of the preceding character or group. For example, the regular expression ca*t would match \"ct\", \"cat\", \"caat\", \"caaat\", and so on."
   ]
  },
  {
   "cell_type": "raw",
   "id": "306ad037-3766-4f14-9a80-1cd8918fd105",
   "metadata": {},
   "source": [
    "11. What is the difference between {4} and {4,5} in regular expression?\n",
    "\n",
    "Ans. {3} will match the character exactly 3 times. \n",
    "\n",
    "However, {4,5} will match the character between 4 and 5 times, as many times as possible, giving back as needed. "
   ]
  },
  {
   "cell_type": "raw",
   "id": "4f7c6a16-bf58-4c5e-a4d2-53f806e4fa61",
   "metadata": {},
   "source": [
    "12. What do you mean by the \\d, \\w, and \\s shorthand character classes signify in regular expressions?\n",
    "\n",
    "Ans. \\d stands for any digit in regular expressions.\n",
    "\n",
    "\\w stands for any word character in regular expressions.\n",
    "\n",
    "\\s stands for any whitespace character in regular expressions."
   ]
  },
  {
   "cell_type": "raw",
   "id": "0fa78573-aaad-4b33-8c06-aa339084af7f",
   "metadata": {},
   "source": [
    "13. What do means by \\D, \\W, and \\S shorthand character classes signify in regular expressions?\n",
    "\n",
    "Ans. \\D stands for any non-digit in regular expressions.\n",
    "\n",
    "\\W stands for any non-word character in regular expressions.\n",
    "\n",
    "\\S stands for any non-whitespace character in regular expressions."
   ]
  },
  {
   "cell_type": "raw",
   "id": "b7c152db-88e8-4df9-b523-0d3aae51e7d1",
   "metadata": {},
   "source": [
    "14. What is the difference between .*? and .* ?\n",
    "\n",
    "Ans. The .* pattern matches any sequence of zero or more characters, except for a newline character. The . matches any single character, and the * quantifier means \"zero or more\" of the preceding character, so .* matches zero or more occurrences of any character.\n",
    "\n",
    "The .*? pattern, on the other hand, is a non-greedy or lazy version of .*. It matches the shortest possible sequence of characters that allows the overall pattern to match. This is in contrast to the .* pattern, which is greedy and matches the longest possible sequence of characters."
   ]
  },
  {
   "cell_type": "raw",
   "id": "89118a85-55a6-48b5-8455-f2d531882b36",
   "metadata": {},
   "source": [
    "15. What is the syntax for matching both numbers and lowercase letters with a character class?\n",
    "\n",
    "Ans. [[:alnum:]] is the syntax for matching both numbers and lowercase letters with a character class. "
   ]
  },
  {
   "cell_type": "raw",
   "id": "9102cf64-494e-4bb0-8a4c-d40d9754871b",
   "metadata": {},
   "source": [
    "16. What is the procedure for making a normal expression in regax case insensitive?\n",
    "\n",
    "Ans. In regular expressions, you can make an expression case-insensitive by using the \"i\" modifier at the end of the regular expression pattern."
   ]
  },
  {
   "cell_type": "markdown",
   "id": "3c8c38f0-974f-426e-80bb-814847255917",
   "metadata": {},
   "source": [
    "17. What does the . character normally matches any single character in the expression.? What does it match if re.DOTALL is passed as 2nd argument in re.compile()?\n",
    "\n",
    "Ans. The **.** character normally matches any single character in the expression. But by default, the **.** character matches any character except newline characters. \n",
    "\n",
    "If the re.DOTALL flag is passed as the second argument to the re.compile() function, the . character will match any character, including newline characters. Please find the code below to prove the same:"
   ]
  },
  {
   "cell_type": "code",
   "execution_count": 15,
   "id": "7a384ae2-81f1-457e-b8b5-372d36a65690",
   "metadata": {},
   "outputs": [
    {
     "name": "stdout",
     "output_type": "stream",
     "text": [
      "['The quick brown', 'fox jumps over', 'the lazy dog']\n"
     ]
    }
   ],
   "source": [
    "#Without re.DOTALL flag\n",
    "text = \"The quick brown\\nfox jumps over\\nthe lazy dog\"\n",
    "pattern = '.+'\n",
    "var1 = re.compile(pattern)\n",
    "match = var1.findall(text)\n",
    "print(match)"
   ]
  },
  {
   "cell_type": "code",
   "execution_count": 16,
   "id": "e4825040-f701-49e5-9265-c56fff2c7a3a",
   "metadata": {},
   "outputs": [
    {
     "name": "stdout",
     "output_type": "stream",
     "text": [
      "['The quick brown\\nfox jumps over\\nthe lazy dog']\n"
     ]
    }
   ],
   "source": [
    "#With re.DOTALL flag\n",
    "text = \"The quick brown\\nfox jumps over\\nthe lazy dog\"\n",
    "pattern = '.+'\n",
    "var1 = re.compile(pattern, re.DOTALL)\n",
    "match = var1.findall(text)\n",
    "print(match)"
   ]
  },
  {
   "cell_type": "raw",
   "id": "9116193b-307c-46c3-991d-bc47bc2e4275",
   "metadata": {},
   "source": [
    "18. If numReg = re.compile(r'\\d+'), what will numReg.sub('X', '11 drummers, 10 pipers, five rings, 4 hen') return?\n",
    "\n",
    "Ans. If numReg = re.compile(r'\\d+'), then numReg.sub('X', '11 drummers, 10 pipers, five rings, 4 hen') will replace all occurrences of one or more digits with the string 'X' in the input string '11 drummers, 10 pipers, five rings, 4 hen'. \n",
    "\n",
    "Please find the code below:"
   ]
  },
  {
   "cell_type": "code",
   "execution_count": 20,
   "id": "1c635042-98d4-404f-8404-fa106239fae7",
   "metadata": {},
   "outputs": [
    {
     "data": {
      "text/plain": [
       "'X drummers, X pipers, five rings, X hen'"
      ]
     },
     "execution_count": 20,
     "metadata": {},
     "output_type": "execute_result"
    }
   ],
   "source": [
    "numReg = re.compile(r'\\d+')\n",
    "numReg.sub('X', '11 drummers, 10 pipers, five rings, 4 hen')"
   ]
  },
  {
   "cell_type": "raw",
   "id": "96d4819b-3a77-402f-b384-9198d8c8b71a",
   "metadata": {},
   "source": [
    "19. What does passing re.VERBOSE as the 2nd argument to re.compile() allow to do?\n",
    "\n",
    "Ans. Passing re.VERBOSE as the second argument to re.compile() in Python allows us to write regular expressions that are easier to read and understand by allowing to add comments and whitespace to the pattern."
   ]
  },
  {
   "cell_type": "raw",
   "id": "10536378-d988-4de7-b1ab-3168461b1235",
   "metadata": {},
   "source": [
    "20. How would you write a regex that match a number with comma for every three digits? It must match the given following:\n",
    "\n",
    "'42'\n",
    "'1,234'\n",
    "'6,368,745'\n",
    "\n",
    "but not the following:\n",
    "\n",
    "'12,34,567' (which has only two digits between the commas)\n",
    "'1234' (which lacks commas)\n",
    "\n",
    "Ans. Please find the regex code below:"
   ]
  },
  {
   "cell_type": "code",
   "execution_count": 23,
   "id": "113a66b7-3321-45ed-b032-7a8abdf047ce",
   "metadata": {},
   "outputs": [
    {
     "data": {
      "text/plain": [
       "[',234', ',368', ',745', ',567']"
      ]
     },
     "execution_count": 23,
     "metadata": {},
     "output_type": "execute_result"
    }
   ],
   "source": [
    "pattern = \",\\d{3}\"\n",
    "numbers = \"\"\"\n",
    "'42'\n",
    "'1,234'\n",
    "'6,368,745'\n",
    "'12,34,567'\n",
    "'1234'\n",
    "\"\"\"\n",
    "re.findall(pattern,numbers)"
   ]
  },
  {
   "cell_type": "raw",
   "id": "0d2a5909-ce63-4806-86ed-7fba38dc08ea",
   "metadata": {},
   "source": [
    "21. How would you write a regex that matches the full name of someone whose last name is Watanabe? You can assume that the first name that comes before it will always be one word that begins with a capital letter. \n",
    "\n",
    "The regex must match the following:\n",
    "\n",
    "'Haruto Watanabe'\n",
    "'Alice Watanabe'\n",
    "'Robocop Watanabe'\n",
    "\n",
    "but not the following:\n",
    "\n",
    "'haruto Watanabe' (where the first name is not capitalized)\n",
    "'Mr. Watanabe' (where the preceding word has a nonletter character)\n",
    "'Watanabe' (which has no first name)\n",
    "'Haruto watanabe' (where Watanabe is not capitalized)\n",
    "\n",
    "Ans. Please find the regex below: "
   ]
  },
  {
   "cell_type": "code",
   "execution_count": 51,
   "id": "52de39e8-013c-41c8-b189-fe18aa6b3219",
   "metadata": {},
   "outputs": [
    {
     "name": "stdout",
     "output_type": "stream",
     "text": [
      "'Haruto Watanabe' matches: Haruto Watanabe\n",
      "'Alice Watanabe' matches: Alice Watanabe\n",
      "'Robocop Watanabe' matches: Robocop Watanabe\n",
      "'haruto Watanabe' does not match\n",
      "'Mr. Watanabe' does not match\n",
      "'Watanabe' does not match\n",
      "'Haruto watanabe' does not match\n"
     ]
    }
   ],
   "source": [
    "import re\n",
    "\n",
    "strings = ['Haruto Watanabe', 'Alice Watanabe', 'Robocop Watanabe', 'haruto Watanabe', 'Mr. Watanabe', 'Watanabe', 'Haruto watanabe']\n",
    "\n",
    "regex = r'\\b[A-Z][a-z]* Watanabe\\b'\n",
    "\n",
    "for i in strings:\n",
    "    match = re.search(regex, i)\n",
    "    if match:\n",
    "        print(f\"'{i}' matches: {match.group(0)}\")\n",
    "    else:\n",
    "        print(f\"'{i}' does not match\")\n"
   ]
  },
  {
   "cell_type": "raw",
   "id": "e76659ff-a3d0-451e-8322-3baf5bd70188",
   "metadata": {},
   "source": [
    "22. How would you write a regex that matches a sentence where the first word is either Alice, Bob, or Carol; the second word is either eats, pets, or throws; the third word is apples, cats, or baseballs; and the sentence ends with a period? This regex should be case-insensitive. \n",
    "\n",
    "It must match the following:\n",
    "\n",
    "'Alice eats apples.'\n",
    "'Bob pets cats.'\n",
    "'Carol throws baseballs.'\n",
    "'Alice throws Apples.'\n",
    "'BOB EATS CATS.'\n",
    "\n",
    "but not the following:\n",
    "\n",
    "'RoboCop eats apples.'\n",
    "'ALICE THROWS FOOTBALLS.'\n",
    "'Carol eats 7 cats.'\n",
    "\n",
    "Ans. Please find the code below:"
   ]
  },
  {
   "cell_type": "code",
   "execution_count": 54,
   "id": "289c005d-7663-4cf4-9272-49cbeeb56caf",
   "metadata": {},
   "outputs": [
    {
     "name": "stdout",
     "output_type": "stream",
     "text": [
      "This has been matched successfully: Alice eats apples.\n",
      "This has been matched successfully: Bob pets cats.\n",
      "This has been matched successfully: Carol throws baseballs.\n",
      "This has been matched successfully: Alice throws Apples.\n",
      "This has been matched successfully: BOB EATS CATS.\n",
      "This hasn't been matched successfully: RoboCop eats apples.\n",
      "This hasn't been matched successfully: ALICE THROWS FOOTBALLS.\n",
      "This hasn't been matched successfully: Carol eats 7 cats.\n"
     ]
    }
   ],
   "source": [
    "import re\n",
    "\n",
    "pattern = r'^(Alice|Bob|Carol)\\s+(eats|pets|throws)\\s+(apples|cats|baseballs)\\.$'\n",
    "\n",
    "sentences = ['Alice eats apples.', 'Bob pets cats.','Carol throws baseballs.','Alice throws Apples.','BOB EATS CATS.', 'RoboCop eats apples.', 'ALICE THROWS FOOTBALLS.','Carol eats 7 cats.']\n",
    "\n",
    "for i in sentences:\n",
    "    match = re.search(pattern, i, re.IGNORECASE)\n",
    "    if match:\n",
    "        print(f\"This has been matched successfully: {i}\")\n",
    "    else:\n",
    "        print(f\"This hasn't been matched successfully: {i}\")"
   ]
  }
 ],
 "metadata": {
  "kernelspec": {
   "display_name": "Python 3 (ipykernel)",
   "language": "python",
   "name": "python3"
  },
  "language_info": {
   "codemirror_mode": {
    "name": "ipython",
    "version": 3
   },
   "file_extension": ".py",
   "mimetype": "text/x-python",
   "name": "python",
   "nbconvert_exporter": "python",
   "pygments_lexer": "ipython3",
   "version": "3.10.6"
  },
  "widgets": {
   "application/vnd.jupyter.widget-state+json": {
    "state": {},
    "version_major": 2,
    "version_minor": 0
   }
  }
 },
 "nbformat": 4,
 "nbformat_minor": 5
}
