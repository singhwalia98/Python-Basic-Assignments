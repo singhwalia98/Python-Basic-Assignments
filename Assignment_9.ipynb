{
 "cells": [
  {
   "attachments": {},
   "cell_type": "markdown",
   "metadata": {},
   "source": [
    "1. To what does a relative path refer?\n",
    "\n",
    "Ans. A relative path refers to the location of a file or directory relative to the current working directory. In other words, it is a path that is specified in relation to the directory where the user is currently located, rather than an absolute path that specifies the full path from the root directory of the file system."
   ]
  },
  {
   "attachments": {},
   "cell_type": "markdown",
   "metadata": {},
   "source": [
    "2. Why does an absolute path start with your operating system?\n",
    "\n",
    "Ans. An absolute path starts with the operating system because the file system is specific to the operating system on which the code is running. The file system on Windows-based systems is different from that on Unix-based systems such as Linux and macOS."
   ]
  },
  {
   "attachments": {},
   "cell_type": "markdown",
   "metadata": {},
   "source": [
    "3. What do the functions os.getcwd() and os.chdir() do?\n",
    "\n",
    "Ans. **os.getcwd()** will mention the path of the current working directory. \n",
    "\n",
    "**os.chdir()** will change the path of the current working directory with the path we mention in this function as an argument. "
   ]
  },
  {
   "attachments": {},
   "cell_type": "markdown",
   "metadata": {},
   "source": [
    "4. What are the . and .. folders?\n",
    "\n",
    "Ans. **. (dot)** folder is a ref to the current directory which we're working on.\n",
    "\n",
    "However, **.. (dot-dot)** folder is a ref to the Parent directory. "
   ]
  },
  {
   "attachments": {},
   "cell_type": "markdown",
   "metadata": {},
   "source": [
    "5. In C:\\bacon\\eggs\\spam.txt, which part is the dir name, and which part is the base name?\n",
    "\n",
    "Ans. In C:\\bacon\\eggs\\spam.txt, C:\\bacon\\eggs is the directory name and spam.txt is the base name. "
   ]
  },
  {
   "attachments": {},
   "cell_type": "markdown",
   "metadata": {},
   "source": [
    "6. What are the three “mode” arguments that can be passed to the open() function?\n",
    "\n",
    "Ans. Three main mode arguments which can be passed to the open() function are: \n",
    "\n",
    "* r: read mode - opens the file for reading only. The file pointer is placed at the beginning of the file. If the file doesn't exist, an error occurs.\n",
    "\n",
    "* w: write mode - opens the file for writing only. If the file already exists, it will be truncated to zero length. If the file doesn't exist, it will be created.\n",
    "\n",
    "* a: append mode - opens the file for writing only, but the file pointer is placed at the end of the file. If the file doesn't exist, it will be created."
   ]
  },
  {
   "attachments": {},
   "cell_type": "markdown",
   "metadata": {},
   "source": [
    "7. What happens if an existing file is opened in write mode?\n",
    "\n",
    "Ans. If an existing file is opened up in write mode, it will be truncated to zero length. "
   ]
  },
  {
   "attachments": {},
   "cell_type": "markdown",
   "metadata": {},
   "source": [
    "8. How do you tell the difference between read() and readlines()?\n",
    "\n",
    "Ans. The read() method reads the entire contents of the file as a single string, starting from the current file position.\n",
    "\n",
    "On the other hand, the readlines() method reads the entire contents of the file line by line and returns a list of strings, with each string representing a line of text."
   ]
  },
  {
   "cell_type": "markdown",
   "metadata": {},
   "source": [
    "9. What data structure does a shelf value resemble?\n",
    "\n",
    "Ans. A shelf value resembles a \"Dictionary Data structure\". "
   ]
  },
  {
   "cell_type": "code",
   "execution_count": null,
   "metadata": {},
   "outputs": [],
   "source": []
  }
 ],
 "metadata": {
  "kernelspec": {
   "display_name": "base",
   "language": "python",
   "name": "python3"
  },
  "language_info": {
   "codemirror_mode": {
    "name": "ipython",
    "version": 3
   },
   "file_extension": ".py",
   "mimetype": "text/x-python",
   "name": "python",
   "nbconvert_exporter": "python",
   "pygments_lexer": "ipython3",
   "version": "3.9.13"
  },
  "orig_nbformat": 4
 },
 "nbformat": 4,
 "nbformat_minor": 2
}
