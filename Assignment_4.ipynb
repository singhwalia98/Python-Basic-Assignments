{
 "cells": [
  {
   "cell_type": "raw",
   "id": "3b540362",
   "metadata": {},
   "source": [
    "1. What exactly is []?\n",
    "\n",
    "Ans. These are pair of \"square brackets\". "
   ]
  },
  {
   "cell_type": "raw",
   "id": "0b9596fe",
   "metadata": {},
   "source": [
    "2. In a list of values stored in a variable called spam, how would you assign the value 'hello' as the third value? (Assume [2, 4, 6, 8, 10] are in spam.)\n",
    "\n",
    "Ans. Please find the answer in the line below:"
   ]
  },
  {
   "cell_type": "code",
   "execution_count": 6,
   "id": "529d445b",
   "metadata": {},
   "outputs": [
    {
     "name": "stdout",
     "output_type": "stream",
     "text": [
      "[2, 4, 6, 'hello', 8, 10]\n"
     ]
    }
   ],
   "source": [
    "spam = [2, 4, 6, 8, 10]\n",
    "\n",
    "spam.insert(3, 'hello')\n",
    "\n",
    "print(spam)"
   ]
  },
  {
   "cell_type": "raw",
   "id": "1cca05a3",
   "metadata": {},
   "source": [
    "Let's pretend the spam includes the list ['a', 'b', 'c', 'd'] for the next three queries.\n",
    "\n",
    "3. What is the value of spam[int(int('3' * 2) / 11)]?\n",
    "4. What is the value of spam[-1]?\n",
    "5. What is the value of spam[:2]?\n",
    "\n",
    "Ans. Please find the answers in the lines below: "
   ]
  },
  {
   "cell_type": "code",
   "execution_count": 16,
   "id": "6bd991e2",
   "metadata": {},
   "outputs": [
    {
     "data": {
      "text/plain": [
       "'d'"
      ]
     },
     "execution_count": 16,
     "metadata": {},
     "output_type": "execute_result"
    }
   ],
   "source": [
    "# 3. What is the value of spam[int(int('3' * 2) / 11)]?\n",
    "\n",
    "spam = ['a', 'b', 'c', 'd']\n",
    "spam[int(int('3' * 2) / 11)]"
   ]
  },
  {
   "cell_type": "code",
   "execution_count": 20,
   "id": "cf5f2872",
   "metadata": {},
   "outputs": [
    {
     "data": {
      "text/plain": [
       "'d'"
      ]
     },
     "execution_count": 20,
     "metadata": {},
     "output_type": "execute_result"
    }
   ],
   "source": [
    "# 4. What is the value of spam[-1]?\n",
    "\n",
    "spam = ['a', 'b', 'c', 'd']\n",
    "spam[-1]"
   ]
  },
  {
   "cell_type": "code",
   "execution_count": 21,
   "id": "57abd50e",
   "metadata": {},
   "outputs": [
    {
     "data": {
      "text/plain": [
       "['a', 'b']"
      ]
     },
     "execution_count": 21,
     "metadata": {},
     "output_type": "execute_result"
    }
   ],
   "source": [
    "# 5. What is the value of spam[:2]?\n",
    "\n",
    "spam = ['a', 'b', 'c', 'd']\n",
    "spam[:2]"
   ]
  },
  {
   "cell_type": "raw",
   "id": "a877d2d4",
   "metadata": {},
   "source": [
    "Let's pretend bacon has the list [3.14, 'cat,' 11, 'cat,' True] for the next three questions.\n",
    "\n",
    "6. What is the value of bacon.index('cat')?\n",
    "7. How does bacon.append(99) change the look of the list value in bacon?\n",
    "8. How does bacon.remove('cat') change the look of the list in bacon?\n",
    "\n",
    "Ans. Please find the answers in the lines below: "
   ]
  },
  {
   "cell_type": "code",
   "execution_count": 24,
   "id": "b159426d",
   "metadata": {},
   "outputs": [
    {
     "data": {
      "text/plain": [
       "1"
      ]
     },
     "execution_count": 24,
     "metadata": {},
     "output_type": "execute_result"
    }
   ],
   "source": [
    "# 6. What is the value of bacon.index('cat')?\n",
    "\n",
    "bacon = [3.14, 'cat', 11, 'cat', True]\n",
    "bacon.index('cat')"
   ]
  },
  {
   "cell_type": "code",
   "execution_count": 2,
   "id": "bfe7908c",
   "metadata": {},
   "outputs": [
    {
     "name": "stdout",
     "output_type": "stream",
     "text": [
      "[3.14, 'cat', 11, 'cat', True, 99]\n"
     ]
    }
   ],
   "source": [
    "# 7. How does bacon.append(99) change the look of the list value in bacon?\n",
    "\n",
    "bacon = [3.14, 'cat', 11, 'cat', True]\n",
    "bacon.append(99)\n",
    "print(bacon) # It changes the look of the list by adding the value at the end of the list. "
   ]
  },
  {
   "cell_type": "code",
   "execution_count": 8,
   "id": "7f3e7d03",
   "metadata": {},
   "outputs": [
    {
     "name": "stdout",
     "output_type": "stream",
     "text": [
      "[3.14, 11, True, 99]\n"
     ]
    }
   ],
   "source": [
    "# 8. How does bacon.remove('cat') change the look of the list in bacon?\n",
    "\n",
    "bacon.remove('cat')\n",
    "print(bacon) # It changes the list by removing all the cat strings from the list. "
   ]
  },
  {
   "cell_type": "raw",
   "id": "1c5a0b72",
   "metadata": {},
   "source": [
    "9. What are the list concatenation and list replication operators?\n",
    "\n",
    "Ans. The list concatenation operator is \"+\" , which is used to join two or more lists into a single list.\n",
    "\n",
    "The list replication operator is \"*\", which is used to create a new list by repeating an existing list a certain number of times."
   ]
  },
  {
   "cell_type": "raw",
   "id": "63f9bd27",
   "metadata": {},
   "source": [
    "10. What is difference between the list methods append() and insert()?\n",
    "\n",
    "Ans. The append() method always inserts the object at the end of the list. \n",
    "\n",
    "However, The insert() method takes the index where the user wants to insert the object and then applies the same. "
   ]
  },
  {
   "cell_type": "raw",
   "id": "dbb22a76",
   "metadata": {},
   "source": [
    "11. What are the two methods for removing items from a list?\n",
    "\n",
    "Ans. Two methods of removing items are pop() & remove()."
   ]
  },
  {
   "cell_type": "raw",
   "id": "06abb830",
   "metadata": {},
   "source": [
    "Slicing: Both lists and strings support slicing, which allows you to extract a portion of the sequence. 12. Describe how list values and string values are identical?\n",
    "\n",
    "Ans. List values and String values are identical in the following ways:\n",
    "\n",
    "Indexing: Both lists and strings support indexing, which allows to access individual elements or characters in the sequence.\n",
    "\n",
    "Slicing: Both lists and strings support slicing, which allows to extract a portion of the sequence. \n",
    "\n",
    "Length: Both lists and strings have a length, which is the number of elements or characters in the sequence. \n",
    "\n",
    "Iteration: Both lists and strings can be iterated over with a for loop, allowing to process each element or character in the sequence one at a time."
   ]
  },
  {
   "cell_type": "raw",
   "id": "32edff46",
   "metadata": {},
   "source": [
    "13. What's the difference between tuples and lists?\n",
    "\n",
    "Ans. Mutability: The major difference between the two is:\n",
    "\n",
    "\"Lists\" are mutable in nature and does support item assignment. \n",
    "\n",
    "However, \"Tuples\" are immutable in nature and doesn't support item assignment. "
   ]
  },
  {
   "cell_type": "markdown",
   "id": "6fc8e250",
   "metadata": {},
   "source": [
    "14. How do you type a tuple value that only contains the integer 42?\n",
    "\n",
    "Ans. It can typed as: a = (42). \n",
    "\n",
    "#### a being the variable here. "
   ]
  },
  {
   "cell_type": "raw",
   "id": "85f7e2f7",
   "metadata": {},
   "source": [
    "15. How do you get a list value's tuple form? How do you get a tuple value's list form?\n",
    "\n",
    "Ans. Please find the codes in the lines below:"
   ]
  },
  {
   "cell_type": "code",
   "execution_count": 32,
   "id": "172aace7",
   "metadata": {},
   "outputs": [
    {
     "data": {
      "text/plain": [
       "(1, 2, 3, 4, 5)"
      ]
     },
     "execution_count": 32,
     "metadata": {},
     "output_type": "execute_result"
    }
   ],
   "source": [
    "# How do you get a list value's tuple form?\n",
    "\n",
    "a = [1,2,3,4,5]\n",
    "tuple(a)"
   ]
  },
  {
   "cell_type": "code",
   "execution_count": 34,
   "id": "b77a44be",
   "metadata": {},
   "outputs": [
    {
     "data": {
      "text/plain": [
       "[1, 2, 3, 4, 5]"
      ]
     },
     "execution_count": 34,
     "metadata": {},
     "output_type": "execute_result"
    }
   ],
   "source": [
    "#How do you get a tuple value's list form?\n",
    "\n",
    "b = (1,2,3,4,5)\n",
    "list(b)"
   ]
  },
  {
   "cell_type": "raw",
   "id": "4bd37ffe",
   "metadata": {},
   "source": [
    "16. Variables that \"contain\" list values are not necessarily lists themselves. Instead, what do they contain?\n",
    "\n",
    "Ans. A variable that \"contains\" a list value is actually a reference to the list object, rather than the list itself. When we assign a list value to a variable, the variable is assigned a reference to the location in memory where the list object is stored. "
   ]
  },
  {
   "cell_type": "markdown",
   "id": "47585b9d",
   "metadata": {},
   "source": [
    "17. How do you distinguish between copy.copy() and copy.deepcopy()?\n",
    "\n",
    "Ans. The main difference between the two functions is how they handle nested objects. \n",
    "\n",
    "**copy.copy()** creates a shallow copy of an object. If the original object contains nested objects, the copy only contains references to those nested objects, rather than new copies of the nested objects themselves. Modifying the nested objects in the copy will also modify the nested objects in the original object.\n",
    "\n",
    "**copy.deepcopy()** creates a deep copy of an object. This means that it creates a new object that is a copy of the original object, including all of the nested objects. Modifying the nested objects in the copy will not affect the nested objects in the original object."
   ]
  },
  {
   "cell_type": "code",
   "execution_count": null,
   "id": "ff4deb2d",
   "metadata": {},
   "outputs": [],
   "source": []
  }
 ],
 "metadata": {
  "kernelspec": {
   "display_name": "Python 3 (ipykernel)",
   "language": "python",
   "name": "python3"
  },
  "language_info": {
   "codemirror_mode": {
    "name": "ipython",
    "version": 3
   },
   "file_extension": ".py",
   "mimetype": "text/x-python",
   "name": "python",
   "nbconvert_exporter": "python",
   "pygments_lexer": "ipython3",
   "version": "3.9.13"
  }
 },
 "nbformat": 4,
 "nbformat_minor": 5
}
