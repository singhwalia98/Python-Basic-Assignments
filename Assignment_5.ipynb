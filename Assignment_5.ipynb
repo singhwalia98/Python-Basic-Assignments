{
 "cells": [
  {
   "cell_type": "raw",
   "id": "3629a82d",
   "metadata": {},
   "source": [
    "1. What does an empty dictionary's code look like?\n",
    "\n",
    "Ans. Please find the code in the line below:"
   ]
  },
  {
   "cell_type": "code",
   "execution_count": 4,
   "id": "f2fd111c",
   "metadata": {},
   "outputs": [
    {
     "name": "stdout",
     "output_type": "stream",
     "text": [
      "{}\n"
     ]
    }
   ],
   "source": [
    "d = {}\n",
    "print(d)"
   ]
  },
  {
   "cell_type": "code",
   "execution_count": 10,
   "id": "3451b338",
   "metadata": {},
   "outputs": [
    {
     "name": "stdout",
     "output_type": "stream",
     "text": [
      "{'foo': 42}\n"
     ]
    }
   ],
   "source": [
    "# 2. What is the value of a dictionary value with the key 'foo' and the value 42?\n",
    "\n",
    "d1 = {\"foo\": 42}\n",
    "print(d1)"
   ]
  },
  {
   "cell_type": "raw",
   "id": "efeffbe0",
   "metadata": {},
   "source": [
    "3. What is the most significant distinction between a dictionary and a list?\n",
    "\n",
    "Ans. The most significant distinction between a dictionary and a list is that a dictionary is a collection of key-value pairs, while a list is an ordered collection of values."
   ]
  },
  {
   "cell_type": "raw",
   "id": "e4c9d3b1",
   "metadata": {},
   "source": [
    "4. What happens if you try to access spam['foo'] if spam is {'bar': 100}?\n",
    "\n",
    "Ans. Please find the code in the line below:"
   ]
  },
  {
   "cell_type": "code",
   "execution_count": 3,
   "id": "2c48cd59",
   "metadata": {},
   "outputs": [
    {
     "ename": "KeyError",
     "evalue": "'foo'",
     "output_type": "error",
     "traceback": [
      "\u001b[1;31m---------------------------------------------------------------------------\u001b[0m",
      "\u001b[1;31mKeyError\u001b[0m                                  Traceback (most recent call last)",
      "\u001b[1;32mC:\\Users\\Public\\Documents\\Wondershare\\CreatorTemp\\ipykernel_12504\\2085985392.py\u001b[0m in \u001b[0;36m<module>\u001b[1;34m\u001b[0m\n\u001b[0;32m      1\u001b[0m \u001b[0mspam\u001b[0m \u001b[1;33m=\u001b[0m \u001b[1;33m{\u001b[0m\u001b[1;34m'bar'\u001b[0m\u001b[1;33m:\u001b[0m \u001b[1;36m100\u001b[0m\u001b[1;33m}\u001b[0m\u001b[1;33m\u001b[0m\u001b[1;33m\u001b[0m\u001b[0m\n\u001b[0;32m      2\u001b[0m \u001b[1;33m\u001b[0m\u001b[0m\n\u001b[1;32m----> 3\u001b[1;33m \u001b[0mspam\u001b[0m\u001b[1;33m[\u001b[0m\u001b[1;34m'foo'\u001b[0m\u001b[1;33m]\u001b[0m \u001b[1;31m#We will get a key error if the key isn't available inside the Dict.\u001b[0m\u001b[1;33m\u001b[0m\u001b[1;33m\u001b[0m\u001b[0m\n\u001b[0m",
      "\u001b[1;31mKeyError\u001b[0m: 'foo'"
     ]
    }
   ],
   "source": [
    "spam = {'bar': 100}\n",
    "\n",
    "spam['foo'] #We will get a key error if the key isn't available inside the Dict. "
   ]
  },
  {
   "cell_type": "markdown",
   "id": "1fcccfdc",
   "metadata": {},
   "source": [
    "5. If a dictionary is stored in spam, what is the difference between the expressions 'cat' in spam and 'cat' in spam.keys()?\n",
    "\n",
    "Ans. Please find the code in the lines below:\n",
    "\n",
    "NOTE: There is no difference in both the expressions because both of them are trying to find out the **key** 'cat' if it's present inside the Dict. "
   ]
  },
  {
   "cell_type": "code",
   "execution_count": 21,
   "id": "524ebbd2",
   "metadata": {},
   "outputs": [
    {
     "data": {
      "text/plain": [
       "True"
      ]
     },
     "execution_count": 21,
     "metadata": {},
     "output_type": "execute_result"
    }
   ],
   "source": [
    "spam = {'cat': ''}\n",
    "\n",
    "'cat' in spam "
   ]
  },
  {
   "cell_type": "code",
   "execution_count": 22,
   "id": "a518aaff",
   "metadata": {},
   "outputs": [
    {
     "data": {
      "text/plain": [
       "True"
      ]
     },
     "execution_count": 22,
     "metadata": {},
     "output_type": "execute_result"
    }
   ],
   "source": [
    "'cat' in spam.keys()"
   ]
  },
  {
   "cell_type": "raw",
   "id": "3f739193",
   "metadata": {},
   "source": [
    "6. If a dictionary is stored in spam, what is the difference between the expressions 'cat' in spam and 'cat' in spam.values()?\n",
    "\n",
    "Ans. The expression 'cat' in spam will only try to find if the Key 'cat' is available inside the Dict or not. \n",
    "\n",
    "However, the expression 'cat' in spam.values() will only try to find out if the value 'cat' has been assigned to any of the Keys inside the Dict.  "
   ]
  },
  {
   "cell_type": "raw",
   "id": "5daf82b7",
   "metadata": {},
   "source": [
    "7. What is a shortcut for the following code?\n",
    "\n",
    "if 'color' not in spam:\n",
    "    spam['color'] = 'black'\n",
    "    \n",
    "Ans. Pls find the shortcut code in the line below:"
   ]
  },
  {
   "cell_type": "code",
   "execution_count": 35,
   "id": "e0846246",
   "metadata": {},
   "outputs": [
    {
     "data": {
      "text/plain": [
       "'black'"
      ]
     },
     "execution_count": 35,
     "metadata": {},
     "output_type": "execute_result"
    }
   ],
   "source": [
    "spam.setdefault('color', 'black') #This will only assign the key and the value pair to the dict if it doesn't already exist. "
   ]
  },
  {
   "cell_type": "markdown",
   "id": "a0a351fd",
   "metadata": {},
   "source": [
    "8. How do you \"pretty print\" dictionary values using which module and function?\n",
    "\n",
    "Ans. We can use: **from pprint import pprint** in order to pretty print dictionary values. "
   ]
  },
  {
   "cell_type": "code",
   "execution_count": null,
   "id": "26723b16",
   "metadata": {},
   "outputs": [],
   "source": []
  }
 ],
 "metadata": {
  "kernelspec": {
   "display_name": "Python 3 (ipykernel)",
   "language": "python",
   "name": "python3"
  },
  "language_info": {
   "codemirror_mode": {
    "name": "ipython",
    "version": 3
   },
   "file_extension": ".py",
   "mimetype": "text/x-python",
   "name": "python",
   "nbconvert_exporter": "python",
   "pygments_lexer": "ipython3",
   "version": "3.9.13"
  }
 },
 "nbformat": 4,
 "nbformat_minor": 5
}
